{
 "cells": [
  {
   "cell_type": "code",
   "execution_count": 2,
   "id": "d9e9dd47",
   "metadata": {},
   "outputs": [
    {
     "name": "stdout",
     "output_type": "stream",
     "text": [
      "Learned Policy:\n",
      "[['D' 'D' 'L' 'L']\n",
      " ['R' 'U' 'D' 'L']\n",
      " ['U' 'R' 'R' 'D']\n",
      " ['U' 'L' 'R' 'U']]\n"
     ]
    }
   ],
   "source": [
    "import numpy as np\n",
    "\n",
    "class GridWorld:\n",
    "    def __init__(self):\n",
    "        self.size = 4\n",
    "        self.actions = ['U', 'D', 'L', 'R']\n",
    "        self.rewards = {(3, 3): 5, (1, 3): -2, (2, 1): -2, (3, 1): -2}\n",
    "        self.Q = {}\n",
    "        for i in range(self.size):\n",
    "            for j in range(self.size):\n",
    "                self.Q[(i, j)] = {a: 0 for a in self.actions}\n",
    "\n",
    "    def choose_action(self, state, epsilon):\n",
    "        if np.random.uniform(0, 1) < epsilon:\n",
    "            return np.random.choice(self.actions)\n",
    "        else:\n",
    "            return max(self.Q[state], key=self.Q[state].get)\n",
    "\n",
    "    def generate_episode(self, epsilon):\n",
    "        episode = []\n",
    "        state = (0, 0)\n",
    "        while state != (3, 3):\n",
    "            action = self.choose_action(state, epsilon)\n",
    "            next_state, reward = self.take_action(state, action)\n",
    "            episode.append((state, action, reward))\n",
    "            state = next_state\n",
    "        return episode\n",
    "\n",
    "    def take_action(self, state, action):\n",
    "        if action == 'U':\n",
    "            next_state = (max(state[0] - 1, 0), state[1])\n",
    "        elif action == 'D':\n",
    "            next_state = (min(state[0] + 1, self.size - 1), state[1])\n",
    "        elif action == 'L':\n",
    "            next_state = (state[0], max(state[1] - 1, 0))\n",
    "        elif action == 'R':\n",
    "            next_state = (state[0], min(state[1] + 1, self.size - 1))\n",
    "        reward = self.rewards.get(next_state, 0)\n",
    "        return next_state, reward\n",
    "\n",
    "    def update_Q(self, episode, gamma):\n",
    "        G = 0\n",
    "        for state, action, reward in reversed(episode):\n",
    "            G = reward + gamma * G\n",
    "            self.Q[state][action] += 0.1 * (G - self.Q[state][action])\n",
    "\n",
    "    def train(self, num_episodes=1000, epsilon=0.1, gamma=0.9):\n",
    "        for _ in range(num_episodes):\n",
    "            episode = self.generate_episode(epsilon)\n",
    "            self.update_Q(episode, gamma)\n",
    "\n",
    "    def print_policy(self):\n",
    "        policy = np.array([max(self.Q[state], key=self.Q[state].get) for state in self.Q])\n",
    "        policy = policy.reshape(self.size, self.size)\n",
    "        print(policy)\n",
    "\n",
    "\n",
    "if __name__ == \"__main__\":\n",
    "    gridworld = GridWorld()\n",
    "    gridworld.train()\n",
    "    print(\"Learned Policy:\")\n",
    "    gridworld.print_policy()\n"
   ]
  },
  {
   "cell_type": "code",
   "execution_count": null,
   "id": "a6daa10d",
   "metadata": {},
   "outputs": [],
   "source": []
  },
  {
   "cell_type": "code",
   "execution_count": null,
   "id": "71c6c3b6",
   "metadata": {},
   "outputs": [],
   "source": []
  },
  {
   "cell_type": "code",
   "execution_count": null,
   "id": "49c6e389",
   "metadata": {},
   "outputs": [],
   "source": []
  }
 ],
 "metadata": {
  "kernelspec": {
   "display_name": "Python 3 (ipykernel)",
   "language": "python",
   "name": "python3"
  },
  "language_info": {
   "codemirror_mode": {
    "name": "ipython",
    "version": 3
   },
   "file_extension": ".py",
   "mimetype": "text/x-python",
   "name": "python",
   "nbconvert_exporter": "python",
   "pygments_lexer": "ipython3",
   "version": "3.9.12"
  }
 },
 "nbformat": 4,
 "nbformat_minor": 5
}
